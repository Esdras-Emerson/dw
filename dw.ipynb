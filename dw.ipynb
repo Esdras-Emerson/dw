{
 "cells": [
  {
   "cell_type": "code",
   "execution_count": null,
   "metadata": {},
   "outputs": [],
   "source": [
    "import pandas as pd\n",
    "\n",
    "df = pd.read_csv('clientes.csv', sep=';', encoding='latin_1') #importar csv\n",
    "df.head() #mostrar los primeros 5 registros\n",
    "\n"
   ]
  },
  {
   "cell_type": "code",
   "execution_count": null,
   "metadata": {},
   "outputs": [],
   "source": [
    "df.info() #mostra o tipo de dados de cada coluna\n"
   ]
  },
  {
   "cell_type": "code",
   "execution_count": null,
   "metadata": {},
   "outputs": [],
   "source": [
    "df.value_counts().value_counts() #contar a quantidade de valores únicos em cada coluna\n"
   ]
  },
  {
   "cell_type": "code",
   "execution_count": null,
   "metadata": {},
   "outputs": [],
   "source": [
    "df.Estado.unique() #mostrar os valores únicos da coluna Estado\n"
   ]
  },
  {
   "cell_type": "code",
   "execution_count": null,
   "metadata": {},
   "outputs": [],
   "source": [
    "df[['Cliente', 'Estado', 'Status']].head(10) #selecionar as colunas Cliente, Estado e Status e mostrar os 10 primeiros registros"
   ]
  },
  {
   "cell_type": "code",
   "execution_count": null,
   "metadata": {},
   "outputs": [],
   "source": [
    "mascara = df['Status'] == 'Gold' #criar uma máscara para selecionar apenas os registros com Status 'Gold'\n",
    "df[mascara].head() #mostrar os primeiros 5 registros com Status 'Gold'\n",
    "\n"
   ]
  },
  {
   "cell_type": "code",
   "execution_count": null,
   "metadata": {},
   "outputs": [],
   "source": [
    "mascara_and = (df['Estado'] == 'RJ') & (df['Sexo'] == 'M') #criar uma máscara para selecionar apenas os registros com Estado 'RJ' e Sexo 'M'\n",
    "df[mascara_and].head()"
   ]
  },
  {
   "cell_type": "code",
   "execution_count": null,
   "metadata": {},
   "outputs": [],
   "source": [
    "mascara_mista = ((df['Estado'] == 'MG') | (df['Sexo'] == 'F')) \\\n",
    "                & (df['Status'] == 'Silver')\n",
    "df[mascara_mista].head(20)"
   ]
  },
  {
   "cell_type": "code",
   "execution_count": null,
   "metadata": {},
   "outputs": [],
   "source": [
    "df.iloc[3] #selecionar a linha 3    \n"
   ]
  },
  {
   "cell_type": "code",
   "execution_count": null,
   "metadata": {},
   "outputs": [],
   "source": [
    "df.iloc[3:9] #selecionar as linhas de 3 a 9"
   ]
  },
  {
   "cell_type": "code",
   "execution_count": null,
   "metadata": {},
   "outputs": [],
   "source": [
    "df.iloc[[3,9]]"
   ]
  },
  {
   "cell_type": "code",
   "execution_count": null,
   "metadata": {},
   "outputs": [],
   "source": [
    "df.iloc[3:9, 1:3] #selecionar as linhas de 3 a 9 e a coluna 3"
   ]
  },
  {
   "cell_type": "code",
   "execution_count": null,
   "metadata": {},
   "outputs": [],
   "source": [
    "pd.DataFrame(df.iloc[3:9, 1:3]) #selecionar as linhas de 3 a 9 e a coluna 3"
   ]
  },
  {
   "cell_type": "code",
   "execution_count": null,
   "metadata": {},
   "outputs": [],
   "source": [
    "df.iloc[1:3, 2:] #selecionar as linhas de 1 a 3 e as colunas de 2 em diante\n"
   ]
  },
  {
   "cell_type": "code",
   "execution_count": null,
   "metadata": {},
   "outputs": [],
   "source": [
    "# Cria uma coluna com nomes para o índice\n",
    "df['nome_indice'] = df['Cliente'].astype(str) + '_' + df['Estade']\n",
    "\n",
    "# Cria uma nova varável para armazenar o dataframe com o índice nomeado\n",
    "df_loc = df.set_index('nome_indice')\n",
    "\n",
    "# Remove o nome da coluna do índice, para melhorar a visualização\n",
    "df_loc.index.name = None\n",
    "\n",
    "df_loc.head(10)"
   ]
  },
  {
   "cell_type": "code",
   "execution_count": null,
   "metadata": {},
   "outputs": [],
   "source": [
    "# Acessa uma posição\n",
    "df_loc.loc['Alberto Monsanto_RN']"
   ]
  },
  {
   "cell_type": "code",
   "execution_count": null,
   "metadata": {},
   "outputs": [],
   "source": [
    "df.query('Estado == \"CE\"').head() #selecionar os registros com Estado 'CE'\n"
   ]
  },
  {
   "cell_type": "code",
   "execution_count": null,
   "metadata": {},
   "outputs": [],
   "source": [
    "df.query('Estado == \"CE\" and Sexo == \"M\"').head()"
   ]
  },
  {
   "cell_type": "code",
   "execution_count": 42,
   "metadata": {},
   "outputs": [
    {
     "data": {
      "text/html": [
       "<div>\n",
       "<style scoped>\n",
       "    .dataframe tbody tr th:only-of-type {\n",
       "        vertical-align: middle;\n",
       "    }\n",
       "\n",
       "    .dataframe tbody tr th {\n",
       "        vertical-align: top;\n",
       "    }\n",
       "\n",
       "    .dataframe thead th {\n",
       "        text-align: right;\n",
       "    }\n",
       "</style>\n",
       "<table border=\"1\" class=\"dataframe\">\n",
       "  <thead>\n",
       "    <tr style=\"text-align: right;\">\n",
       "      <th></th>\n",
       "      <th>ï»¿IDCliente</th>\n",
       "      <th>Cliente</th>\n",
       "      <th>Estado</th>\n",
       "      <th>Sexo</th>\n",
       "      <th>Status</th>\n",
       "      <th>nome_indice</th>\n",
       "    </tr>\n",
       "  </thead>\n",
       "  <tbody>\n",
       "  </tbody>\n",
       "</table>\n",
       "</div>"
      ],
      "text/plain": [
       "Empty DataFrame\n",
       "Columns: [ï»¿IDCliente, Cliente, Estado, Sexo, Status, nome_indice]\n",
       "Index: []"
      ]
     },
     "execution_count": 42,
     "metadata": {},
     "output_type": "execute_result"
    }
   ],
   "source": [
    "df.query('Cliente.isna()').head() #selecionar os registros com Cliente nulo\n"
   ]
  },
  {
   "cell_type": "code",
   "execution_count": null,
   "metadata": {},
   "outputs": [],
   "source": [
    "# Filtra as linhas que não são MG ou SP\n",
    "df.query('Estado not in [\"RJ\", \"SP\"]').head()"
   ]
  },
  {
   "cell_type": "code",
   "execution_count": null,
   "metadata": {},
   "outputs": [],
   "source": [
    "df.sort_values(by='Status', ascending=True).head() #ordenar o dataframe pela coluna Status"
   ]
  },
  {
   "cell_type": "code",
   "execution_count": null,
   "metadata": {},
   "outputs": [],
   "source": [
    "# Ordena o dataframe pela coluna Status e Sexo\n",
    "df[['nome_indice', 'Status', 'Sexo']]\\\n",
    "    .sort_values(by=['nome_indice', 'Status'], ascending=True)\\\n",
    "    .head(30)"
   ]
  },
  {
   "cell_type": "code",
   "execution_count": 47,
   "metadata": {},
   "outputs": [
    {
     "data": {
      "text/plain": [
       "Index(['ï»¿IDCliente', 'Cliente', 'Estado', 'Sexo', 'Status', 'nome_indice'], dtype='object')"
      ]
     },
     "execution_count": 47,
     "metadata": {},
     "output_type": "execute_result"
    }
   ],
   "source": [
    "df.columns #mostrar as colunas do dataframe"
   ]
  },
  {
   "cell_type": "code",
   "execution_count": 48,
   "metadata": {},
   "outputs": [
    {
     "data": {
      "text/plain": [
       "Index(['IDCliente', 'Cliente', 'Estado', 'Sexo', 'Status', 'nome_indice'], dtype='object')"
      ]
     },
     "execution_count": 48,
     "metadata": {},
     "output_type": "execute_result"
    }
   ],
   "source": [
    "novos_nomes = {'ï»¿IDCliente': 'IDCliente'} #criar um dicionário com os novos nomes das colunas\n",
    "df_tratado = df.rename(columns=novos_nomes) #renomear as colunas do dataframe\n",
    "df_tratado.columns"
   ]
  },
  {
   "cell_type": "code",
   "execution_count": null,
   "metadata": {},
   "outputs": [],
   "source": [
    "contagem_ocorrencias = df_tratado['Cliente'].value_counts()\n",
    "contagem_ocorrencias.value_counts()"
   ]
  },
  {
   "cell_type": "code",
   "execution_count": null,
   "metadata": {},
   "outputs": [],
   "source": [
    "df = df.drop(columns=['nome_indice'], inplace=True) #remover a coluna nome_indice\n",
    "\n"
   ]
  },
  {
   "cell_type": "code",
   "execution_count": null,
   "metadata": {},
   "outputs": [],
   "source": [
    "df_tratado.info()\n"
   ]
  },
  {
   "cell_type": "code",
   "execution_count": 56,
   "metadata": {},
   "outputs": [
    {
     "data": {
      "text/plain": [
       "Index(['IDCliente', 'Cliente', 'Estado', 'Sexo', 'Status', 'nome_indice'], dtype='object')"
      ]
     },
     "execution_count": 56,
     "metadata": {},
     "output_type": "execute_result"
    }
   ],
   "source": [
    "df_tratado.columns"
   ]
  },
  {
   "cell_type": "code",
   "execution_count": null,
   "metadata": {},
   "outputs": [],
   "source": [
    "df_tratado.dtypes"
   ]
  },
  {
   "cell_type": "code",
   "execution_count": null,
   "metadata": {},
   "outputs": [],
   "source": [
    "df_tratado[['Estado', 'Cliente']].groupby('Estado').count() #agrupar os registros por Estado e contar a quantidade de registros em cada grupo\n"
   ]
  },
  {
   "cell_type": "code",
   "execution_count": null,
   "metadata": {},
   "outputs": [],
   "source": [
    "df_tratado.head()"
   ]
  },
  {
   "cell_type": "code",
   "execution_count": 68,
   "metadata": {},
   "outputs": [],
   "source": [
    "df_itensvenda = pd.read_csv('itensvenda.csv', sep=';', encoding='latin_1') #importar o arquivo itens_venda.csv\n",
    "df_vendas = pd.read_csv('vendas.csv', sep=';', encoding='latin_1') #importar o arquivo vendas.csv\n",
    "df_produtos = pd.read_csv('produtos.csv', sep=';', encoding='latin_1') #importar o arquivo produtos.csv\n",
    "df_vendedores = pd.read_csv('vendedores.csv', sep=';', encoding='latin_1') #importar o arquivo vendedores.csv\n"
   ]
  },
  {
   "cell_type": "code",
   "execution_count": 95,
   "metadata": {},
   "outputs": [
    {
     "data": {
      "text/plain": [
       "Index(['ï»¿IDVenda', 'IDVendedor', 'IDCliente', 'Data', 'Total'], dtype='object')"
      ]
     },
     "execution_count": 95,
     "metadata": {},
     "output_type": "execute_result"
    }
   ],
   "source": [
    "df_vendas.columns"
   ]
  },
  {
   "cell_type": "code",
   "execution_count": 96,
   "metadata": {},
   "outputs": [
    {
     "data": {
      "text/plain": [
       "Index(['ï»¿IDVendedor', 'Nome'], dtype='object')"
      ]
     },
     "execution_count": 96,
     "metadata": {},
     "output_type": "execute_result"
    }
   ],
   "source": [
    "df_vendedores.columns"
   ]
  },
  {
   "cell_type": "code",
   "execution_count": null,
   "metadata": {},
   "outputs": [],
   "source": [
    "df_vendedores.head()\n",
    "df_vendedores.rename(columns={'ï»¿IDVendedor': 'IDVendedor'}, inplace=True) #renomear a coluna ï»¿IDVendedor para IDVendedor\n",
    "df_vendedores.head()"
   ]
  },
  {
   "cell_type": "code",
   "execution_count": null,
   "metadata": {},
   "outputs": [],
   "source": [
    "df_vendas.head()"
   ]
  },
  {
   "cell_type": "code",
   "execution_count": null,
   "metadata": {},
   "outputs": [],
   "source": [
    "df_vendas.head()\n",
    "df_vendas.rename(columns={'ï»¿IDVenda': 'IDVenda'}, inplace=True) #renomear a coluna ï»¿IDVenda para IDVenda\n",
    "df_vendas.head()"
   ]
  },
  {
   "cell_type": "code",
   "execution_count": null,
   "metadata": {},
   "outputs": [],
   "source": [
    "# Primeiro merge: df_vendedores com df_vendas\n",
    "df_join = pd.merge(df_vendedores, df_vendas[['IDVendedor', 'Data', 'IDVenda', 'IDCliente']], how='left', on='IDVendedor')\n",
    "\n",
    "# Segundo merge: df_join com df_itensvenda\n",
    "df_final = pd.merge(df_join, df_itensvenda, how='left', on='IDVenda')\n",
    "\n",
    "# Exibir as primeiras linhas do DataFrame resultante\n",
    "print(df_final.head())"
   ]
  },
  {
   "cell_type": "code",
   "execution_count": null,
   "metadata": {},
   "outputs": [],
   "source": [
    "df_final.head()\n",
    "df_final.rename(columns={'ï»¿IDProduto': 'IDProduto'}, inplace=True) #renomear a coluna ï»¿IDProduto para IDProduto\n",
    "df_final.head()"
   ]
  },
  {
   "cell_type": "code",
   "execution_count": null,
   "metadata": {},
   "outputs": [],
   "source": [
    "df_tratado.head()\n"
   ]
  },
  {
   "cell_type": "code",
   "execution_count": null,
   "metadata": {},
   "outputs": [],
   "source": [
    "df_final.head()"
   ]
  },
  {
   "cell_type": "code",
   "execution_count": null,
   "metadata": {},
   "outputs": [],
   "source": [
    "df_tratado.head()"
   ]
  },
  {
   "cell_type": "code",
   "execution_count": null,
   "metadata": {},
   "outputs": [],
   "source": [
    "df_produtos.head()\n",
    "df_produtos.rename(columns={'ï»¿IDProduto': 'IDProduto'}, inplace=True) #renomear a coluna ï»¿IDProduto para IDProduto\n",
    "df_produtos.head()"
   ]
  },
  {
   "cell_type": "code",
   "execution_count": null,
   "metadata": {},
   "outputs": [],
   "source": [
    "# Primeiro merge: df_vendedores com df_vendas\n",
    "df_final1 = pd.merge(df_final, df_tratado[['IDCliente', 'Cliente', 'Estado', 'Sexo', 'Status']], how='left', on='IDCliente')\n",
    "print(df_final1.head())\n",
    "\n",
    "# Segundo merge: df_join com df_itensvenda\n",
    "df_final2 = pd.merge(df_final1, df_produtos[['IDProduto', 'Produto','Preco']], how='left', on='IDProduto')\n",
    "\n",
    "# Exibir as primeiras linhas do DataFrame resultante\n",
    "print(df_final2.head(0))"
   ]
  },
  {
   "cell_type": "code",
   "execution_count": 143,
   "metadata": {},
   "outputs": [
    {
     "name": "stdout",
     "output_type": "stream",
     "text": [
      "A quantidade total de vendedores é: 10\n"
     ]
    }
   ],
   "source": [
    "quantidade_vendedores = len(df_vendedores['IDVendedor'])\n",
    "print(\"A quantidade total de vendedores é:\", quantidade_vendedores)"
   ]
  },
  {
   "cell_type": "code",
   "execution_count": 145,
   "metadata": {},
   "outputs": [
    {
     "name": "stdout",
     "output_type": "stream",
     "text": [
      "400\n"
     ]
    }
   ],
   "source": [
    "quantidade_vendas = len(df_vendas)\n",
    "print(quantidade_vendas)"
   ]
  },
  {
   "cell_type": "code",
   "execution_count": null,
   "metadata": {},
   "outputs": [],
   "source": [
    "# Group the data by salesperson and count the number of sales\n",
    "sales_counts = df_final2['Nome'].value_counts()\n",
    "\n",
    "# Get the top 5 salespeople\n",
    "top_5_salespeople = sales_counts.head(5)\n",
    "\n",
    "# Get the bottom 5 salespeople\n",
    "bottom_5_salespeople = sales_counts.tail(5)\n",
    "\n",
    "# Get the number of sales for each salesperson\n",
    "num_sales = sales_counts.sum()\n",
    "\n",
    "# Print the results\n",
    "print(\"Top 5 Salespeople:\")\n",
    "print(top_5_salespeople)\n",
    "print(\"\\nBottom 5 Salespeople:\")\n",
    "print(bottom_5_salespeople)\n",
    "print(\"\\nTotal Number of Sales:\", num_sales)"
   ]
  }
 ],
 "metadata": {
  "kernelspec": {
   "display_name": ".venv",
   "language": "python",
   "name": "python3"
  },
  "language_info": {
   "codemirror_mode": {
    "name": "ipython",
    "version": 3
   },
   "file_extension": ".py",
   "mimetype": "text/x-python",
   "name": "python",
   "nbconvert_exporter": "python",
   "pygments_lexer": "ipython3",
   "version": "3.10.4"
  }
 },
 "nbformat": 4,
 "nbformat_minor": 2
}
